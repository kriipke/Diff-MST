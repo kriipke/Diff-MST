{
 "cells": [
  {
   "cell_type": "code",
   "execution_count": 3,
   "metadata": {},
   "outputs": [
    {
     "name": "stdout",
     "output_type": "stream",
     "text": [
      "Collecting torchvision\n",
      "  Using cached torchvision-0.13.1-cp37-cp37m-manylinux1_x86_64.whl (19.1 MB)\n",
      "Requirement already satisfied: pillow!=8.3.*,>=5.3.0 in /homes/ssv02/.venv/lib/python3.7/site-packages/Pillow-9.0.1-py3.7-linux-x86_64.egg (from torchvision) (9.0.1)\n",
      "Requirement already satisfied: typing-extensions in /homes/ssv02/.venv/lib/python3.7/site-packages (from torchvision) (4.2.0)\n",
      "Requirement already satisfied: numpy in /homes/ssv02/.venv/lib/python3.7/site-packages (from torchvision) (1.21.6)\n",
      "Collecting requests\n",
      "  Using cached requests-2.28.1-py3-none-any.whl (62 kB)\n",
      "Collecting torch==1.12.1\n",
      "  Downloading torch-1.12.1-cp37-cp37m-manylinux1_x86_64.whl (776.3 MB)\n",
      "\u001b[2K     \u001b[90m━━━━━━━━━━━━━━━━━━━━━━━━━━━━━━━━━━━━━\u001b[0m \u001b[32m776.3/776.3 MB\u001b[0m \u001b[31m920.9 kB/s\u001b[0m eta \u001b[36m0:00:00\u001b[0m00:01\u001b[0m00:05\u001b[0m\n",
      "\u001b[?25hCollecting idna<4,>=2.5\n",
      "  Using cached idna-3.3-py3-none-any.whl (61 kB)\n",
      "Collecting charset-normalizer<3,>=2\n",
      "  Downloading charset_normalizer-2.1.1-py3-none-any.whl (39 kB)\n",
      "Collecting certifi>=2017.4.17\n",
      "  Using cached certifi-2022.6.15-py3-none-any.whl (160 kB)\n",
      "Collecting urllib3<1.27,>=1.21.1\n",
      "  Downloading urllib3-1.26.12-py2.py3-none-any.whl (140 kB)\n",
      "\u001b[2K     \u001b[90m━━━━━━━━━━━━━━━━━━━━━━━━━━━━━━━━━━━━━━━\u001b[0m \u001b[32m140.4/140.4 kB\u001b[0m \u001b[31m3.2 MB/s\u001b[0m eta \u001b[36m0:00:00\u001b[0ma \u001b[36m0:00:01\u001b[0m\n",
      "\u001b[?25hInstalling collected packages: urllib3, torch, idna, charset-normalizer, certifi, requests, torchvision\n",
      "\u001b[31mERROR: pip's dependency resolver does not currently take into account all the packages that are installed. This behaviour is the source of the following dependency conflicts.\n",
      "wavebeat 0.0.1 requires cython, which is not installed.\n",
      "wavebeat 0.0.1 requires madmom, which is not installed.\n",
      "wavebeat 0.0.1 requires mir_eval, which is not installed.\n",
      "wavebeat 0.0.1 requires pytorch_lightning==1.1.8, which is not installed.\n",
      "wavebeat 0.0.1 requires torchaudio==0.7.2, which is not installed.\n",
      "wavebeat 0.0.1 requires torch==1.7.1, but you have torch 1.12.1 which is incompatible.\n",
      "wavebeat 0.0.1 requires torchvision==0.8.2, but you have torchvision 0.13.1 which is incompatible.\u001b[0m\u001b[31m\n",
      "\u001b[0mSuccessfully installed certifi-2022.6.15 charset-normalizer-2.1.1 idna-3.3 requests-2.28.1 torch-1.12.1 torchvision-0.13.1 urllib3-1.26.12\n",
      "\n",
      "\u001b[1m[\u001b[0m\u001b[34;49mnotice\u001b[0m\u001b[1;39;49m]\u001b[0m\u001b[39;49m A new release of pip available: \u001b[0m\u001b[31;49m22.1.2\u001b[0m\u001b[39;49m -> \u001b[0m\u001b[32;49m22.2.2\u001b[0m\n",
      "\u001b[1m[\u001b[0m\u001b[34;49mnotice\u001b[0m\u001b[1;39;49m]\u001b[0m\u001b[39;49m To update, run: \u001b[0m\u001b[32;49mpip install --upgrade pip\u001b[0m\n",
      "Note: you may need to restart the kernel to use updated packages.\n"
     ]
    }
   ],
   "source": [
    "pip install torchvision"
   ]
  },
  {
   "cell_type": "code",
   "execution_count": 1,
   "metadata": {},
   "outputs": [
    {
     "name": "stdout",
     "output_type": "stream",
     "text": [
      "Collecting pyyaml\n",
      "  Using cached PyYAML-6.0-cp310-cp310-manylinux_2_5_x86_64.manylinux1_x86_64.manylinux_2_12_x86_64.manylinux2010_x86_64.whl (682 kB)\n",
      "Installing collected packages: pyyaml\n",
      "Successfully installed pyyaml-6.0\n"
     ]
    }
   ],
   "source": [
    "!pip install pyyaml"
   ]
  },
  {
   "cell_type": "code",
   "execution_count": 4,
   "metadata": {},
   "outputs": [],
   "source": [
    "import torchvision\n",
    "from torchvision.models.resnet import resnet18"
   ]
  },
  {
   "cell_type": "code",
   "execution_count": 5,
   "metadata": {},
   "outputs": [
    {
     "name": "stderr",
     "output_type": "stream",
     "text": [
      "/homes/ssv02/.venv/lib/python3.7/site-packages/torchvision/models/_utils.py:209: UserWarning: The parameter 'pretrained' is deprecated since 0.13 and will be removed in 0.15, please use 'weights' instead.\n",
      "  f\"The parameter '{pretrained_param}' is deprecated since 0.13 and will be removed in 0.15, \"\n",
      "/homes/ssv02/.venv/lib/python3.7/site-packages/torchvision/models/_utils.py:223: UserWarning: Arguments other than a weight enum or `None` for 'weights' are deprecated since 0.13 and will be removed in 0.15. The current behavior is equivalent to passing `weights=None`.\n",
      "  warnings.warn(msg)\n"
     ]
    }
   ],
   "source": [
    "resnet = resnet18(pretrained=False, num_classes = 512)\n"
   ]
  },
  {
   "cell_type": "code",
   "execution_count": 1,
   "metadata": {},
   "outputs": [],
   "source": [
    "import torch"
   ]
  },
  {
   "cell_type": "code",
   "execution_count": 28,
   "metadata": {},
   "outputs": [
    {
     "name": "stdout",
     "output_type": "stream",
     "text": [
      "torch.Size([1, 2, 2530025])\n"
     ]
    }
   ],
   "source": [
    "x = torch.empty(1, 2, 2530025)\n",
    "print(x.shape)"
   ]
  },
  {
   "cell_type": "code",
   "execution_count": 32,
   "metadata": {},
   "outputs": [
    {
     "name": "stdout",
     "output_type": "stream",
     "text": [
      "torch.Size([1, 7, 512])\n",
      "torch.Size([7, 512])\n"
     ]
    }
   ],
   "source": [
    "\n",
    "x = torch.empty(1, 2, 512)\n",
    "y = torch.empty(1, 5, 512)\n",
    "emb = torch.cat((x, y), dim=1)\n",
    "print(emb.shape)\n",
    "emb = emb.squeeze()\n",
    "print(emb.shape)"
   ]
  },
  {
   "cell_type": "code",
   "execution_count": null,
   "metadata": {},
   "outputs": [],
   "source": [
    "import torch\n",
    "from torch import nn\n",
    "x = torch.empty(7, 512)\n",
    "m = nn.linear(7 * 512 , 14)"
   ]
  },
  {
   "cell_type": "code",
   "execution_count": 1,
   "metadata": {},
   "outputs": [
    {
     "name": "stdout",
     "output_type": "stream",
     "text": [
      "3.141592653589793\n"
     ]
    }
   ],
   "source": [
    "import torch\n",
    "print(torch.pi)"
   ]
  },
  {
   "cell_type": "code",
   "execution_count": 2,
   "metadata": {},
   "outputs": [],
   "source": [
    "from dataloader import MedleyDBDataLoader\n",
    "from dataloader import MedleyDBDataset\n",
    "\n",
    "import torch"
   ]
  },
  {
   "cell_type": "code",
   "execution_count": 9,
   "metadata": {},
   "outputs": [],
   "source": [
    "from dataloader import MedleyDBDataLoader, MedleyDBDataset\n",
    "dataset = MedleyDBDataset()\n",
    "dataloader = MedleyDBDataLoader()"
   ]
  },
  {
   "cell_type": "code",
   "execution_count": 18,
   "metadata": {},
   "outputs": [
    {
     "ename": "TypeError",
     "evalue": "cannot unpack non-iterable NoneType object",
     "output_type": "error",
     "traceback": [
      "\u001b[0;31m---------------------------------------------------------------------------\u001b[0m",
      "\u001b[0;31mTypeError\u001b[0m                                 Traceback (most recent call last)",
      "\u001b[0;32m/tmp/ipykernel_3160/2853658573.py\u001b[0m in \u001b[0;36m<module>\u001b[0;34m\u001b[0m\n\u001b[1;32m      3\u001b[0m \u001b[0mdataset\u001b[0m \u001b[0;34m=\u001b[0m \u001b[0mMedleyDBDataset\u001b[0m\u001b[0;34m(\u001b[0m\u001b[0;34m)\u001b[0m\u001b[0;34m\u001b[0m\u001b[0;34m\u001b[0m\u001b[0m\n\u001b[1;32m      4\u001b[0m \u001b[0mdataloader\u001b[0m \u001b[0;34m=\u001b[0m \u001b[0mMedleyDBDataLoader\u001b[0m\u001b[0;34m(\u001b[0m\u001b[0mtype\u001b[0m \u001b[0;34m=\u001b[0m \u001b[0;34m\"train\"\u001b[0m\u001b[0;34m)\u001b[0m\u001b[0;34m\u001b[0m\u001b[0;34m\u001b[0m\u001b[0m\n\u001b[0;32m----> 5\u001b[0;31m \u001b[0;32mfor\u001b[0m \u001b[0mi\u001b[0m\u001b[0;34m,\u001b[0m \u001b[0;34m(\u001b[0m\u001b[0msongname\u001b[0m\u001b[0;34m,\u001b[0m \u001b[0mmix\u001b[0m\u001b[0;34m,\u001b[0m \u001b[0mstems\u001b[0m\u001b[0;34m,\u001b[0m \u001b[0mparams\u001b[0m\u001b[0;34m)\u001b[0m \u001b[0;32min\u001b[0m \u001b[0menumerate\u001b[0m\u001b[0;34m(\u001b[0m\u001b[0mdataloader\u001b[0m\u001b[0;34m)\u001b[0m\u001b[0;34m:\u001b[0m\u001b[0;34m\u001b[0m\u001b[0;34m\u001b[0m\u001b[0m\n\u001b[0m\u001b[1;32m      6\u001b[0m     \u001b[0mprint\u001b[0m\u001b[0;34m(\u001b[0m\u001b[0;34m\"shapes of tensors\"\u001b[0m\u001b[0;34m,\u001b[0m \u001b[0mmix\u001b[0m\u001b[0;34m.\u001b[0m\u001b[0mshape\u001b[0m\u001b[0;34m,\u001b[0m \u001b[0mstems\u001b[0m\u001b[0;34m.\u001b[0m\u001b[0mshape\u001b[0m\u001b[0;34m,\u001b[0m \u001b[0mparams\u001b[0m\u001b[0;34m.\u001b[0m\u001b[0mshape\u001b[0m\u001b[0;34m)\u001b[0m\u001b[0;34m\u001b[0m\u001b[0;34m\u001b[0m\u001b[0m\n\u001b[1;32m      7\u001b[0m     \u001b[0mprint\u001b[0m\u001b[0;34m(\u001b[0m\u001b[0msongname\u001b[0m\u001b[0;34m)\u001b[0m\u001b[0;34m\u001b[0m\u001b[0;34m\u001b[0m\u001b[0m\n",
      "\u001b[0;31mTypeError\u001b[0m: cannot unpack non-iterable NoneType object"
     ]
    }
   ],
   "source": [
    "import torch\n",
    "from dataloader import MedleyDBDataLoader, MedleyDBDataset\n",
    "dataset = MedleyDBDataset()\n",
    "dataloader = MedleyDBDataLoader(type = \"train\")\n",
    "for i, (songname, mix, stems, params) in enumerate(dataloader):\n",
    "    print(\"shapes of tensors\", mix.shape, stems.shape, params.shape)\n",
    "    print(songname)\n",
    "    if(i == 5):\n",
    "        break\n",
    "   \n"
   ]
  },
  {
   "cell_type": "code",
   "execution_count": null,
   "metadata": {},
   "outputs": [],
   "source": [
    "train_dataloader = MedleyDBDataLoader(type=\"train\")\n",
    "    # create a data loader\n",
    "    #train_dataloader = dataset(type=\"train\")\n",
    "print(\"\\nTraining data loaded\")\n",
    "print(len(train_dataloader))\n",
    "    #print(train_dataloader)\n",
    "for i, (songname, mix, stems, params) in enumerate(train_dataloader):\n",
    "\n",
    "        # move to the default device\n",
    "        print(i)\n",
    "        print(songname)\n",
    "        "
   ]
  },
  {
   "cell_type": "code",
   "execution_count": 20,
   "metadata": {},
   "outputs": [
    {
     "name": "stdout",
     "output_type": "stream",
     "text": [
      "/homes/ssv02/mix_style_transfer\n",
      "['/homes/ssv02/mix_style_transfer/data/test', '/homes/ssv02/mix_style_transfer/data/train']\n",
      "['/homes/ssv02/mix_style_transfer/data/test/TablaBreakbeatScience_MoodyPlucks', '/homes/ssv02/mix_style_transfer/data/test/Meaxic_YouListen', '/homes/ssv02/mix_style_transfer/data/test/AvaLuna_Waterduct', '/homes/ssv02/mix_style_transfer/data/test/MusicDelta_ChineseChaoZhou', '/homes/ssv02/mix_style_transfer/data/test/BigTroubles_Phantom', '/homes/ssv02/mix_style_transfer/data/test/MusicDelta_ChineseXinJing', '/homes/ssv02/mix_style_transfer/data/test/KarimDouaidy_Hopscotch', '/homes/ssv02/mix_style_transfer/data/test/MusicDelta_FusionJazz', '/homes/ssv02/mix_style_transfer/data/test/TablaBreakbeatScience_CaptainSky', '/homes/ssv02/mix_style_transfer/data/test/MusicDelta_Grunge', '/homes/ssv02/mix_style_transfer/data/test/HezekiahJones_BorrowedHeart', '/homes/ssv02/mix_style_transfer/data/test/Snowmine_Curfews', '/homes/ssv02/mix_style_transfer/data/test/MusicDelta_Zeppelin', '/homes/ssv02/mix_style_transfer/data/test/JoelHelander_IntheAtticBedroom', '/homes/ssv02/mix_style_transfer/data/test/Lushlife_ToynbeeSuite', '/homes/ssv02/mix_style_transfer/data/test/TablaBreakbeatScience_Vger', '/homes/ssv02/mix_style_transfer/data/test/TheSoSoGlos_Emergency', '/homes/ssv02/mix_style_transfer/data/test/AmarLal_Rest', '/homes/ssv02/mix_style_transfer/data/test/Schubert_Erstarrung', '/homes/ssv02/mix_style_transfer/data/test/MatthewEntwistle_ImpressionsOfSaturn', '/homes/ssv02/mix_style_transfer/data/test/AClassicEducation_NightOwl', '/homes/ssv02/mix_style_transfer/data/test/MusicDelta_CoolJazz', '/homes/ssv02/mix_style_transfer/data/test/HeladoNegro_MitadDelMundo']\n",
      "['/homes/ssv02/mix_style_transfer/data/train/Meaxic_TakeAStep', '/homes/ssv02/mix_style_transfer/data/train/MusicDelta_ChineseJiangNan', '/homes/ssv02/mix_style_transfer/data/train/InvisibleFamiliars_DisturbingWildlife', '/homes/ssv02/mix_style_transfer/data/train/SweetLights_YouLetMeDown', '/homes/ssv02/mix_style_transfer/data/train/AmarLal_SpringDay1', '/homes/ssv02/mix_style_transfer/data/train/TheScarletBrand_LesFleursDuMal', '/homes/ssv02/mix_style_transfer/data/train/MusicDelta_GriegTrolltog', '/homes/ssv02/mix_style_transfer/data/train/PortStWillow_StayEven', '/homes/ssv02/mix_style_transfer/data/train/Phoenix_LarkOnTheStrandDrummondCastle', '/homes/ssv02/mix_style_transfer/data/train/AlexanderRoss_VelvetCurtain', '/homes/ssv02/mix_style_transfer/data/train/EthanHein_HarmonicaFigure', '/homes/ssv02/mix_style_transfer/data/train/TablaBreakbeatScience_WhoIsIt', '/homes/ssv02/mix_style_transfer/data/train/Handel_TornamiAVagheggiar', '/homes/ssv02/mix_style_transfer/data/train/ChrisJacoby_PigsFoot', '/homes/ssv02/mix_style_transfer/data/train/KarimDouaidy_Yatora', '/homes/ssv02/mix_style_transfer/data/train/MatthewEntwistle_DontYouEver', '/homes/ssv02/mix_style_transfer/data/train/MusicDelta_Country2', '/homes/ssv02/mix_style_transfer/data/train/Phoenix_ElzicsFarewell', '/homes/ssv02/mix_style_transfer/data/train/LizNelson_Rainfall', '/homes/ssv02/mix_style_transfer/data/train/ClaraBerryAndWooldog_Boys', '/homes/ssv02/mix_style_transfer/data/train/StevenClark_Bounty', '/homes/ssv02/mix_style_transfer/data/train/MatthewEntwistle_TheArch', '/homes/ssv02/mix_style_transfer/data/train/MusicDelta_80sRock', '/homes/ssv02/mix_style_transfer/data/train/TheDistricts_Vermont', '/homes/ssv02/mix_style_transfer/data/train/Grants_PunchDrunk', '/homes/ssv02/mix_style_transfer/data/train/MusicDelta_LatinJazz', '/homes/ssv02/mix_style_transfer/data/train/ClaraBerryAndWooldog_Stella', '/homes/ssv02/mix_style_transfer/data/train/JoelHelander_ExcessiveResistancetoChange', '/homes/ssv02/mix_style_transfer/data/train/AlexanderRoss_GoodbyeBolero', '/homes/ssv02/mix_style_transfer/data/train/ChrisJacoby_BoothShotLincoln', '/homes/ssv02/mix_style_transfer/data/train/EthanHein_GirlOnABridge', '/homes/ssv02/mix_style_transfer/data/train/MusicDelta_Pachelbel', '/homes/ssv02/mix_style_transfer/data/train/MatthewEntwistle_TheFlaxenField', '/homes/ssv02/mix_style_transfer/data/train/Wolf_DieBekherte', '/homes/ssv02/mix_style_transfer/data/train/MusicDelta_Beethoven', '/homes/ssv02/mix_style_transfer/data/train/MusicDelta_Reggae', '/homes/ssv02/mix_style_transfer/data/train/LizNelson_ImComingHome', '/homes/ssv02/mix_style_transfer/data/train/FamilyBand_Again', '/homes/ssv02/mix_style_transfer/data/train/Phoenix_ScotchMorris', '/homes/ssv02/mix_style_transfer/data/train/BrandonWebster_DontHearAThing', '/homes/ssv02/mix_style_transfer/data/train/MusicDelta_Shadows', '/homes/ssv02/mix_style_transfer/data/train/Debussy_LenfantProdigue', '/homes/ssv02/mix_style_transfer/data/train/CelestialShore_DieForUs', '/homes/ssv02/mix_style_transfer/data/train/ClaraBerryAndWooldog_TheBadGuys', '/homes/ssv02/mix_style_transfer/data/train/NightPanther_Fire', '/homes/ssv02/mix_style_transfer/data/train/Creepoid_OldTree', '/homes/ssv02/mix_style_transfer/data/train/CroqueMadame_Pilot', '/homes/ssv02/mix_style_transfer/data/train/TablaBreakbeatScience_MiloVsMongo', '/homes/ssv02/mix_style_transfer/data/train/MusicDelta_ChineseHenan', '/homes/ssv02/mix_style_transfer/data/train/MusicDelta_Disco', '/homes/ssv02/mix_style_transfer/data/train/MusicDelta_SpeedMetal', '/homes/ssv02/mix_style_transfer/data/train/MusicDelta_Beatles', '/homes/ssv02/mix_style_transfer/data/train/PurlingHiss_Lolita', '/homes/ssv02/mix_style_transfer/data/train/MusicDelta_Punk', '/homes/ssv02/mix_style_transfer/data/train/MusicDelta_ModalJazz', '/homes/ssv02/mix_style_transfer/data/train/StrandOfOaks_Spacestation', '/homes/ssv02/mix_style_transfer/data/train/MatthewEntwistle_FairerHopes', '/homes/ssv02/mix_style_transfer/data/train/MusicDelta_FunkJazz', '/homes/ssv02/mix_style_transfer/data/train/FacesOnFilm_WaitingForGa', '/homes/ssv02/mix_style_transfer/data/train/JoelHelander_Definition', '/homes/ssv02/mix_style_transfer/data/train/Schumann_Mignon', '/homes/ssv02/mix_style_transfer/data/train/MusicDelta_Rock', '/homes/ssv02/mix_style_transfer/data/train/SecretMountains_HighHorse', '/homes/ssv02/mix_style_transfer/data/train/Auctioneer_OurFutureFaces', '/homes/ssv02/mix_style_transfer/data/train/MusicDelta_InTheHalloftheMountainKing', '/homes/ssv02/mix_style_transfer/data/train/MusicDelta_ChineseDrama', '/homes/ssv02/mix_style_transfer/data/train/Mozart_BesterJungling', '/homes/ssv02/mix_style_transfer/data/train/MusicDelta_Hendrix', '/homes/ssv02/mix_style_transfer/data/train/MusicDelta_ChineseYaoZu', '/homes/ssv02/mix_style_transfer/data/train/MusicDelta_SwingJazz', '/homes/ssv02/mix_style_transfer/data/train/ClaraBerryAndWooldog_AirTraffic', '/homes/ssv02/mix_style_transfer/data/train/TablaBreakbeatScience_PhaseTransition', '/homes/ssv02/mix_style_transfer/data/train/MusicDelta_Gospel', '/homes/ssv02/mix_style_transfer/data/train/CroqueMadame_Oil', '/homes/ssv02/mix_style_transfer/data/train/MatthewEntwistle_AnEveningWithOliver', '/homes/ssv02/mix_style_transfer/data/train/MusicDelta_BebopJazz', '/homes/ssv02/mix_style_transfer/data/train/MusicDelta_Britpop', '/homes/ssv02/mix_style_transfer/data/train/AimeeNorwich_Child', '/homes/ssv02/mix_style_transfer/data/train/TablaBreakbeatScience_RockSteady', '/homes/ssv02/mix_style_transfer/data/train/EthanHein_1930sSynthAndUprightBass', '/homes/ssv02/mix_style_transfer/data/train/Phoenix_SeanCaughlinsTheScartaglen', '/homes/ssv02/mix_style_transfer/data/train/MusicDelta_Vivaldi', '/homes/ssv02/mix_style_transfer/data/train/TablaBreakbeatScience_Animoog', '/homes/ssv02/mix_style_transfer/data/train/Phoenix_ColliersDaughter', '/homes/ssv02/mix_style_transfer/data/train/MusicDelta_Rockabilly', '/homes/ssv02/mix_style_transfer/data/train/DreamersOfTheGhetto_HeavyLove', '/homes/ssv02/mix_style_transfer/data/train/Mozart_DiesBildnis', '/homes/ssv02/mix_style_transfer/data/train/HopAlong_SisterCities', '/homes/ssv02/mix_style_transfer/data/train/ClaraBerryAndWooldog_WaltzForMyVictims', '/homes/ssv02/mix_style_transfer/data/train/MusicDelta_Country1', '/homes/ssv02/mix_style_transfer/data/train/AimeeNorwich_Flying', '/homes/ssv02/mix_style_transfer/data/train/TablaBreakbeatScience_Scorpio']\n"
     ]
    }
   ],
   "source": [
    "#used this script to remove dir with no tracks from the dataset. In the first round of generation, I forgot to remove the dir of songs with no tracks\n",
    "\n",
    "import os\n",
    "import glob\n",
    "dir = os.getcwd()\n",
    "dir = os.path.dirname(dir)\n",
    "print(dir)\n",
    "data_dir = glob.glob(os.path.join(dir, \"data\", \"*\"))\n",
    "print(data_dir)\n",
    "\n",
    "for i, dir in enumerate(data_dir):\n",
    "    songdir = glob.glob(os.path.join(dir, \"*\"))\n",
    "    print(songdir)\n",
    "    for j, song in enumerate(songdir):\n",
    "        data = glob.glob(os.path.join(song, \"*\"))\n",
    "        if(len(data) == 0):\n",
    "            print(\"empty\")\n",
    "            os.rmdir(song)\n",
    "# data_dir = \"./data/\"\n",
    "# for dirs in os.listdir(data_dir):\n",
    "#     print(dirs)"
   ]
  },
  {
   "cell_type": "code",
   "execution_count": 7,
   "metadata": {},
   "outputs": [],
   "source": [
    "import os\n",
    "import glob\n",
    "import torch\n",
    "import torchaudio\n",
    "\n",
    "\n",
    " "
   ]
  },
  {
   "cell_type": "code",
   "execution_count": null,
   "metadata": {},
   "outputs": [
    {
     "ename": "",
     "evalue": "",
     "output_type": "error",
     "traceback": [
      "\u001b[1;31mJupyter cannot be started. Error attempting to locate Jupyter: Running cells with 'Python 3.4.10 64-bit' requires jupyter and notebook package.\n",
      "\u001b[1;31mRun the following command to install 'jupyter and notebook' into the Python environment. \n",
      "\u001b[1;31mCommand: 'python -m pip install jupyter notebook -U\n",
      "\u001b[1;31mor\n",
      "\u001b[1;31mconda install jupyter notebook -U'\n",
      "\u001b[1;31mClick <a href='https://aka.ms/installJupyterForVSCode'>here</a> for more info."
     ]
    }
   ],
   "source": [
    "data_dir = \"/import/c4dm-datasets/MUSDB18HQ\"\n",
    "train_dir = os.path.join(data_dir, \"train\")\n",
    "test_dir = os.path.join(data_dir, \"test\")\n",
    "train_songs =  glob.glob(os.path.join(train_dir, \"*\"))\n",
    "test_songs =  glob.glob(os.path.join(test_dir, \"*\"))\n",
    "print(len(train_songs))\n",
    "print(len(test_songs))\n",
    "# for i, songdir in enumerate(songsdirs):\n",
    "\n",
    "#     if i < 1: \n",
    "#         tracks = glob.glob(os.path.join(songdir, \"*\"))\n",
    "#         for j, track in enumerate(tracks):\n",
    "#             print(track)\n",
    "#             mix, sr = torchaudio.load(track)\n",
    "#             print(mix.shape)\n",
    "#             print(sr)\n",
    "            \n",
    "#     i += 1    "
   ]
  },
  {
   "cell_type": "code",
   "execution_count": 12,
   "metadata": {},
   "outputs": [
    {
     "name": "stdout",
     "output_type": "stream",
     "text": [
      "Found 100 songs in /import/c4dm-datasets/MUSDB18HQ/train.\n",
      "Found 0 songs in ./datas/train.\n"
     ]
    },
    {
     "ename": "ValueError",
     "evalue": "num_samples should be a positive integer value, but got num_samples=0",
     "output_type": "error",
     "traceback": [
      "\u001b[0;31m---------------------------------------------------------------------------\u001b[0m",
      "\u001b[0;31mValueError\u001b[0m                                Traceback (most recent call last)",
      "\u001b[0;32m/tmp/ipykernel_22096/877666813.py\u001b[0m in \u001b[0;36m<module>\u001b[0;34m\u001b[0m\n\u001b[1;32m      5\u001b[0m \u001b[0mmedley_dataset\u001b[0m \u001b[0;34m=\u001b[0m \u001b[0mMedleyDBDataset\u001b[0m\u001b[0;34m(\u001b[0m\u001b[0mtype\u001b[0m \u001b[0;34m=\u001b[0m \u001b[0;34m\"train\"\u001b[0m\u001b[0;34m)\u001b[0m\u001b[0;34m\u001b[0m\u001b[0;34m\u001b[0m\u001b[0m\n\u001b[1;32m      6\u001b[0m \u001b[0mmuse_dataloader\u001b[0m \u001b[0;34m=\u001b[0m \u001b[0mtorch\u001b[0m\u001b[0;34m.\u001b[0m\u001b[0mutils\u001b[0m\u001b[0;34m.\u001b[0m\u001b[0mdata\u001b[0m\u001b[0;34m.\u001b[0m\u001b[0mDataLoader\u001b[0m\u001b[0;34m(\u001b[0m\u001b[0mmuse_dataset\u001b[0m\u001b[0;34m,\u001b[0m \u001b[0mbatch_size\u001b[0m\u001b[0;34m=\u001b[0m\u001b[0;36m8\u001b[0m\u001b[0;34m,\u001b[0m \u001b[0mshuffle\u001b[0m\u001b[0;34m=\u001b[0m\u001b[0;32mTrue\u001b[0m\u001b[0;34m)\u001b[0m\u001b[0;34m\u001b[0m\u001b[0;34m\u001b[0m\u001b[0m\n\u001b[0;32m----> 7\u001b[0;31m \u001b[0mmedley_dataloader\u001b[0m \u001b[0;34m=\u001b[0m \u001b[0mtorch\u001b[0m\u001b[0;34m.\u001b[0m\u001b[0mutils\u001b[0m\u001b[0;34m.\u001b[0m\u001b[0mdata\u001b[0m\u001b[0;34m.\u001b[0m\u001b[0mDataLoader\u001b[0m\u001b[0;34m(\u001b[0m\u001b[0mmedley_dataset\u001b[0m\u001b[0;34m,\u001b[0m \u001b[0mbatch_size\u001b[0m\u001b[0;34m=\u001b[0m\u001b[0;36m8\u001b[0m\u001b[0;34m,\u001b[0m \u001b[0mshuffle\u001b[0m\u001b[0;34m=\u001b[0m\u001b[0;32mTrue\u001b[0m\u001b[0;34m)\u001b[0m\u001b[0;34m\u001b[0m\u001b[0;34m\u001b[0m\u001b[0m\n\u001b[0m\u001b[1;32m      8\u001b[0m \u001b[0;34m\u001b[0m\u001b[0m\n\u001b[1;32m      9\u001b[0m \u001b[0;32mfor\u001b[0m \u001b[0mi\u001b[0m\u001b[0;34m,\u001b[0m \u001b[0;34m(\u001b[0m\u001b[0msongname\u001b[0m\u001b[0;34m,\u001b[0m \u001b[0mmix\u001b[0m\u001b[0;34m,\u001b[0m \u001b[0mstems\u001b[0m\u001b[0;34m,\u001b[0m \u001b[0mparams\u001b[0m\u001b[0;34m)\u001b[0m \u001b[0;32min\u001b[0m \u001b[0menumerate\u001b[0m\u001b[0;34m(\u001b[0m\u001b[0mmuse_dataloader\u001b[0m\u001b[0;34m)\u001b[0m\u001b[0;34m:\u001b[0m\u001b[0;34m\u001b[0m\u001b[0;34m\u001b[0m\u001b[0m\n",
      "\u001b[0;32m~/mix_style_transfer/env/lib/python3.7/site-packages/torch/utils/data/dataloader.py\u001b[0m in \u001b[0;36m__init__\u001b[0;34m(self, dataset, batch_size, shuffle, sampler, batch_sampler, num_workers, collate_fn, pin_memory, drop_last, timeout, worker_init_fn, multiprocessing_context, generator, prefetch_factor, persistent_workers, pin_memory_device)\u001b[0m\n\u001b[1;32m    345\u001b[0m             \u001b[0;32melse\u001b[0m\u001b[0;34m:\u001b[0m  \u001b[0;31m# map-style\u001b[0m\u001b[0;34m\u001b[0m\u001b[0;34m\u001b[0m\u001b[0m\n\u001b[1;32m    346\u001b[0m                 \u001b[0;32mif\u001b[0m \u001b[0mshuffle\u001b[0m\u001b[0;34m:\u001b[0m\u001b[0;34m\u001b[0m\u001b[0;34m\u001b[0m\u001b[0m\n\u001b[0;32m--> 347\u001b[0;31m                     \u001b[0msampler\u001b[0m \u001b[0;34m=\u001b[0m \u001b[0mRandomSampler\u001b[0m\u001b[0;34m(\u001b[0m\u001b[0mdataset\u001b[0m\u001b[0;34m,\u001b[0m \u001b[0mgenerator\u001b[0m\u001b[0;34m=\u001b[0m\u001b[0mgenerator\u001b[0m\u001b[0;34m)\u001b[0m  \u001b[0;31m# type: ignore[arg-type]\u001b[0m\u001b[0;34m\u001b[0m\u001b[0;34m\u001b[0m\u001b[0m\n\u001b[0m\u001b[1;32m    348\u001b[0m                 \u001b[0;32melse\u001b[0m\u001b[0;34m:\u001b[0m\u001b[0;34m\u001b[0m\u001b[0;34m\u001b[0m\u001b[0m\n\u001b[1;32m    349\u001b[0m                     \u001b[0msampler\u001b[0m \u001b[0;34m=\u001b[0m \u001b[0mSequentialSampler\u001b[0m\u001b[0;34m(\u001b[0m\u001b[0mdataset\u001b[0m\u001b[0;34m)\u001b[0m  \u001b[0;31m# type: ignore[arg-type]\u001b[0m\u001b[0;34m\u001b[0m\u001b[0;34m\u001b[0m\u001b[0m\n",
      "\u001b[0;32m~/mix_style_transfer/env/lib/python3.7/site-packages/torch/utils/data/sampler.py\u001b[0m in \u001b[0;36m__init__\u001b[0;34m(self, data_source, replacement, num_samples, generator)\u001b[0m\n\u001b[1;32m    106\u001b[0m         \u001b[0;32mif\u001b[0m \u001b[0;32mnot\u001b[0m \u001b[0misinstance\u001b[0m\u001b[0;34m(\u001b[0m\u001b[0mself\u001b[0m\u001b[0;34m.\u001b[0m\u001b[0mnum_samples\u001b[0m\u001b[0;34m,\u001b[0m \u001b[0mint\u001b[0m\u001b[0;34m)\u001b[0m \u001b[0;32mor\u001b[0m \u001b[0mself\u001b[0m\u001b[0;34m.\u001b[0m\u001b[0mnum_samples\u001b[0m \u001b[0;34m<=\u001b[0m \u001b[0;36m0\u001b[0m\u001b[0;34m:\u001b[0m\u001b[0;34m\u001b[0m\u001b[0;34m\u001b[0m\u001b[0m\n\u001b[1;32m    107\u001b[0m             raise ValueError(\"num_samples should be a positive integer \"\n\u001b[0;32m--> 108\u001b[0;31m                              \"value, but got num_samples={}\".format(self.num_samples))\n\u001b[0m\u001b[1;32m    109\u001b[0m \u001b[0;34m\u001b[0m\u001b[0m\n\u001b[1;32m    110\u001b[0m     \u001b[0;34m@\u001b[0m\u001b[0mproperty\u001b[0m\u001b[0;34m\u001b[0m\u001b[0;34m\u001b[0m\u001b[0m\n",
      "\u001b[0;31mValueError\u001b[0m: num_samples should be a positive integer value, but got num_samples=0"
     ]
    }
   ],
   "source": [
    "from dataloader import MUSEDB_on_the_fly, MedleyDBDataset\n",
    "import numpy as np\n",
    "from sklearn.model_selection import train_test_split\n",
    "import torch\n",
    "muse_dataset = MUSEDB_on_the_fly(type = \"train\")\n",
    "medley_dataset = MedleyDBDataset(type = \"train\")\n",
    "muse_dataloader = torch.utils.data.DataLoader(muse_dataset, batch_size=8, shuffle=True)\n",
    "medley_dataloader = torch.utils.data.DataLoader(medley_dataset, batch_size=8, shuffle=True)\n",
    "\n",
    "for i, (songname, mix, stems, params) in enumerate(muse_dataloader):\n",
    "        print(\"shapes of tensors in musedb\", mix.shape, stems.shape, params.shape)\n",
    "        print(songname)\n",
    "        if(i == 1):\n",
    "                break\n",
    "for i, (songname, mix, stems, params) in enumerate(medley_dataloader):\n",
    "        print(\"shapes of tensors in medley\", mix.shape, stems.shape, params.shape)\n",
    "        print(songname)\n",
    "        if(i == 1):\n",
    "                break        \n",
    "\n",
    "       \n",
    "        \n",
    "        # train_dataset = MUSEDB_on_the_fly(type = \"train\", idx =train_idx)\n",
    "        # val_dataset = MUSEDB_on_the_fly(type = \"val\", idx = val_idx)\n",
    "        \n",
    "        # print(\"train_dataset\", len(train_dataset))\n",
    "        \n",
    "        # print(\"val_dataset\", len(val_dataset))"
   ]
  },
  {
   "cell_type": "code",
   "execution_count": 4,
   "metadata": {},
   "outputs": [
    {
     "name": "stdout",
     "output_type": "stream",
     "text": [
      "torch.Size([2, 1, 1])\n",
      "torch.Size([2, 1, 1, 128])\n",
      "torch.Size([2, 1, 1, 128])\n"
     ]
    }
   ],
   "source": [
    "\n",
    "import torch\n",
    "a = torch.rand(2,1,1)\n",
    "b = torch.rand(2,1,1, 128)\n",
    "print(a.shape)\n",
    "print(b.shape)\n",
    "c = a[:,None]*b\n",
    "print(c.shape)"
   ]
  },
  {
   "cell_type": "code",
   "execution_count": 6,
   "metadata": {},
   "outputs": [
    {
     "name": "stdout",
     "output_type": "stream",
     "text": [
      "tensor([[[0.2508, 0.3166, 0.8926],\n",
      "         [0.8704, 0.7473, 0.4423]]])\n",
      "torch.Size([1, 2, 3])\n",
      "torch.Size([1, 6])\n",
      "tensor([[0.2508, 0.3166, 0.8926, 0.8704, 0.7473, 0.4423]])\n"
     ]
    }
   ],
   "source": [
    "import torch \n",
    "bs =1\n",
    "track = 2\n",
    "emb = 3\n",
    "a = torch.rand(bs, track, emb)\n",
    "print(a)\n",
    "print(a.shape)\n",
    "a = a.view(bs,track * emb) \n",
    "print(a.shape)\n",
    "print(a)"
   ]
  },
  {
   "cell_type": "code",
   "execution_count": 12,
   "metadata": {},
   "outputs": [
    {
     "name": "stdout",
     "output_type": "stream",
     "text": [
      "tensor([10.])\n"
     ]
    }
   ],
   "source": [
    "import torch\n",
    "alpha = 10.0\n",
    "a = torch.tensor([alpha])\n",
    "print(a)"
   ]
  },
  {
   "cell_type": "code",
   "execution_count": 13,
   "metadata": {},
   "outputs": [
    {
     "name": "stdout",
     "output_type": "stream",
     "text": [
      "tensor(1.8744, grad_fn=<MseLossBackward0>)\n",
      "<class 'torch.Tensor'>\n",
      "tensor([18.7445], grad_fn=<MulBackward0>)\n"
     ]
    }
   ],
   "source": [
    "import torch\n",
    "import torch.nn as nn\n",
    "loss = nn.MSELoss()\n",
    "input = torch.randn(3, 5, requires_grad=True)\n",
    "target = torch.randn(3, 5)\n",
    "output = loss(input, target)\n",
    "output.backward()\n",
    "print(output)\n",
    "print(type(output))\n",
    "print(a*output)\n"
   ]
  },
  {
   "cell_type": "code",
   "execution_count": null,
   "metadata": {},
   "outputs": [
    {
     "ename": "",
     "evalue": "",
     "output_type": "error",
     "traceback": [
      "\u001b[1;31mJupyter cannot be started. Error attempting to locate Jupyter: Running cells with 'Python 3.4.10 64-bit' requires jupyter and notebook package.\n",
      "\u001b[1;31mRun the following command to install 'jupyter and notebook' into the Python environment. \n",
      "\u001b[1;31mCommand: 'python -m pip install jupyter notebook -U\n",
      "\u001b[1;31mor\n",
      "\u001b[1;31mconda install jupyter notebook -U'\n",
      "\u001b[1;31mClick <a href='https://aka.ms/installJupyterForVSCode'>here</a> for more info."
     ]
    }
   ],
   "source": [
    "import torch\n",
    "x = torch.randn(2, 512)\n",
    "y = torch.randn(2, 512)\n",
    "print(x.shape)\n",
    "print(y.shape)\n",
    "print(x.repeat(8,1,1).shape)"
   ]
  },
  {
   "cell_type": "code",
   "execution_count": null,
   "metadata": {},
   "outputs": [],
   "source": [
    "from torchsummary import summary\n",
    "from model import *\n",
    "import torch\n",
    "import torch.nn as nn\n",
    "\n",
    "model = encoder()\n",
    "summary(model, [(8,2,22050),(8,4,1,22050)])"
   ]
  },
  {
   "cell_type": "code",
   "execution_count": 1,
   "metadata": {},
   "outputs": [],
   "source": [
    "#Implementing diffcompressor from ChatGPT\n",
    "\n",
    "import torch\n",
    "\n",
    "class Compressor(torch.nn.Module):\n",
    "    def __init__(self, threshold, ratio):\n",
    "        super().__init__()\n",
    "        self.threshold = threshold\n",
    "        self.ratio = ratio\n",
    "\n",
    "    def forward(self, x):\n",
    "        # Compute the difference between the input and the threshold\n",
    "        diff = x - self.threshold\n",
    "\n",
    "        # Compress the signal using the ratio\n",
    "        compressed = diff / self.ratio + self.threshold\n",
    "\n",
    "        # Use the threshold to mask the compressed signal\n",
    "        y = torch.where(x > self.threshold, compressed, x)\n",
    "\n",
    "        return y\n"
   ]
  },
  {
   "cell_type": "code",
   "execution_count": 11,
   "metadata": {},
   "outputs": [
    {
     "name": "stdout",
     "output_type": "stream",
     "text": [
      "tensor([12., 12., 12., 12., 12., 12., 12., 12., 12., 12.])\n",
      "tensor([6.2500, 6.2500, 6.2500, 6.2500, 6.2500, 6.2500, 6.2500, 6.2500, 6.2500,\n",
      "        6.2500])\n"
     ]
    }
   ],
   "source": [
    "# Create a compressor with a threshold of 0.5 and a ratio of 2\n",
    "compressor = Compressor(0.5, 2)\n",
    "\n",
    "# Generate a test signal with a wide dynamic range\n",
    "x = torch.ones(10)\n",
    "x= x * 12\n",
    "print(x)\n",
    "\n",
    "# Compress the dynamic range of the signal\n",
    "y = compressor(x)\n",
    "print(y)\n"
   ]
  },
  {
   "cell_type": "code",
   "execution_count": 12,
   "metadata": {},
   "outputs": [
    {
     "name": "stdout",
     "output_type": "stream",
     "text": [
      "tensor(33.0625)\n"
     ]
    }
   ],
   "source": [
    "# Calculate the loss\n",
    "loss = torch.mean((y - x) ** 2)\n",
    "print(loss)\n",
    "\n",
    "# Backpropagate the loss and calculate the gradients\n",
    "#loss.backward()"
   ]
  },
  {
   "cell_type": "code",
   "execution_count": null,
   "metadata": {},
   "outputs": [],
   "source": [
    "\n",
    "#get_item for medley_db_on the fly\n",
    "def __getitem__(self, _):\n",
    "        # This is in the case of off-the-go mix generation\n",
    "        print(len(self.mix_dirs))\n",
    "        # print(self.mix_dirs)\n",
    "        # select a song directory at random\n",
    "        # songdir = np.random.choice(self.songdirs)\n",
    "        # print(songdir)\n",
    "        # # get info\n",
    "        # songname = os.path.basename(songdir)\n",
    "        # print(songname)\n",
    "        # stem_dir = os.path.join(songdir, songname + \"_STEMS/\")\n",
    "        # print(\"stem_dir:\", stem_dir)\n",
    "        # filepaths = glob.glob(os.path.join(stem_dir, \"*.wav\"))\n",
    "        # print(\"filepaths\", filepaths)\n",
    "\n",
    "\n",
    "        \n",
    "\n",
    "        # # print(params.shape)\n",
    "        # stems_orig = []\n",
    "        # stems_rmix = []\n",
    "        # # print(filepaths[0])\n",
    "        # i = 0\n",
    "        # for filepath in filepaths:\n",
    "        #     if filepath.endswith(\".wav\"):\n",
    "        #         md = torchaudio.info(filepath)\n",
    "           \n",
    "        #         # starting index for the original mix\n",
    "        #         start_idx = random.randint(0, md.num_frames - self.sample_rate*self.duration - 1)\n",
    "        #         #starting index for reference mix\n",
    "        #         if self.diff_sections:\n",
    "        #             rmix_sidx = random.randint(0, md.num_frames - self.sample_rate*self.duration - 1)\n",
    "        #         #start_idx = 0\n",
    "        #         print(\"start_idx:\", start_idx)\n",
    "        #         print(\"rmix_idx:\", rmix_sidx)\n",
    "        #         break\n",
    "        # i = 0\n",
    "        # for filepath in filepaths:\n",
    "\n",
    "\n",
    "        #     # to be fast, just load the part of the audio you want\n",
    "\n",
    "        #     # print(start_idx)\n",
    "        #     if i < self.num_tracks:\n",
    "        #         stem_orig, sr = torchaudio.load(\n",
    "        #             filepath,\n",
    "        #             frame_offset=start_idx,\n",
    "        #             num_frames=self.duration * self.sample_rate,\n",
    "        #         )\n",
    "        #         print(\"filepath\", filepath)\n",
    "        #         #Convert Stereo to Mono\n",
    "        #         if stem_orig.shape[0] == 2:\n",
    "        #             stem_orig = stems_orig.mean(0, keepdim=True)\n",
    "        #         stems_orig.append(stem_orig)\n",
    "                \n",
    "\n",
    "\n",
    "        #         # print(\"its stem\",stem.shape)\n",
    "        #         #load stems inn case we want to use different sections for mix and reference\n",
    "        #         if self.diff_sections:\n",
    "        #             stem_rmix, sr = torchaudio.load(\n",
    "        #                 filepath,\n",
    "        #                 frame_offset=rmix_sidx,\n",
    "        #                 num_frames=self.duration * self.sample_rate,\n",
    "        #             )\n",
    "        #             if stem_rmix.shape[0] == 2:\n",
    "        #                 stem_rmix = stems_rmix.mean(0, keepdim=True)\n",
    "        #             stems_rmix.append(stem_rmix)\n",
    "        #         i += 1\n",
    "                \n",
    "\n",
    "        # stems_orig = torch.stack(stems)\n",
    "        # print(\"stems: \",stems_orig.shape)\n",
    "        # # print(\"params:\", params.shape)\n",
    "        # # print(\"mix\",mix.shape)\n",
    "\n",
    "        # params = torch.rand(i,2)\n",
    "        \n",
    "        # params = params.unsqueeze(0)\n",
    "        # stems_orig = stems_orig.unsqueeze(0)\n",
    "        # print(\"params:\", params.shape)\n",
    "        # print(\"stems:\", stems_orig.shape)\n",
    "        # orig_mix = mix_gen(stems_orig, params)\n",
    "        # print(\"orig_mix:\", orig_mix.shape)\n",
    "        # #initialize params\n",
    "\n",
    "        # if self.diff_sections:\n",
    "        #     stems_rmix = torch.stack(stems_rmix)\n",
    "        #     params_rmix = torch.rand(i,2)\n",
    "        #     params_rmix = params_rmix.unsqueeze(0)\n",
    "        #     stems_rmix = stems_rmix.unsqueeze(0)\n",
    "        #     rmix = mix_gen(stems_rmix, params_rmix)\n",
    "        #     print(\"rmix:\", rmix.shape)\n",
    "            \n",
    "        # else:\n",
    "        #     rmix = orig_mix\n",
    "\n",
    "        # stems_orig = stems_orig.squeeze(0)\n",
    "        # orig_mix = orig_mix.squeeze(0)\n",
    "        # rmix = rmix.squeeze(0)\n",
    "\n",
    "\n",
    "        # return songname, stems_orig, orig_mix, rmix"
   ]
  },
  {
   "cell_type": "code",
   "execution_count": 4,
   "metadata": {},
   "outputs": [
    {
     "ename": "ModuleNotFoundError",
     "evalue": "No module named 'pyyaml'",
     "output_type": "error",
     "traceback": [
      "\u001b[0;31m---------------------------------------------------------------------------\u001b[0m",
      "\u001b[0;31mModuleNotFoundError\u001b[0m                       Traceback (most recent call last)",
      "Cell \u001b[0;32mIn[4], line 2\u001b[0m\n\u001b[1;32m      1\u001b[0m \u001b[39mimport\u001b[39;00m \u001b[39mos\u001b[39;00m\n\u001b[0;32m----> 2\u001b[0m \u001b[39mimport\u001b[39;00m \u001b[39mpyyaml\u001b[39;00m\n\u001b[1;32m      3\u001b[0m meta_dir \u001b[39m=\u001b[39m \u001b[39m\"\u001b[39m\u001b[39m/mst/dataloaders/medley_metadata/\u001b[39m\u001b[39m\"\u001b[39m\n\u001b[1;32m      4\u001b[0m meta_file \u001b[39m=\u001b[39m glob\u001b[39m.\u001b[39mglob(os\u001b[39m.\u001b[39mpath\u001b[39m.\u001b[39mjoin(mata_dir, \u001b[39m\"\u001b[39m\u001b[39m*.yaml\u001b[39m\u001b[39m\"\u001b[39m))\n",
      "\u001b[0;31mModuleNotFoundError\u001b[0m: No module named 'pyyaml'"
     ]
    }
   ],
   "source": []
  },
  {
   "cell_type": "code",
   "execution_count": 3,
   "metadata": {},
   "outputs": [
    {
     "name": "stdout",
     "output_type": "stream",
     "text": [
      "Requirement already satisfied: pyyaml in /homes/ssv02/.conda/envs/afx/lib/python3.10/site-packages (6.0)\n"
     ]
    }
   ],
   "source": [
    "!pip install pyyaml"
   ]
  },
  {
   "cell_type": "code",
   "execution_count": 1,
   "metadata": {},
   "outputs": [
    {
     "name": "stdout",
     "output_type": "stream",
     "text": [
      "/homes/ssv02/style_transfer/mix_style_transfer/mst/dataloaders/medley_metadata\n",
      "['/homes/ssv02/style_transfer/mix_style_transfer/mst/dataloaders/medley_metadata/TablaBreakbeatScience_WhoIsIt_METADATA.yaml', '/homes/ssv02/style_transfer/mix_style_transfer/mst/dataloaders/medley_metadata/ClaraBerryAndWooldog_Boys_METADATA.yaml', '/homes/ssv02/style_transfer/mix_style_transfer/mst/dataloaders/medley_metadata/MusicDelta_Gospel_METADATA.yaml', '/homes/ssv02/style_transfer/mix_style_transfer/mst/dataloaders/medley_metadata/SlowGhost_FirstSnow_METADATA.yaml', '/homes/ssv02/style_transfer/mix_style_transfer/mst/dataloaders/medley_metadata/SlowGhost_YoureAMystery_METADATA.yaml', '/homes/ssv02/style_transfer/mix_style_transfer/mst/dataloaders/medley_metadata/MusicDelta_Britpop_METADATA.yaml', '/homes/ssv02/style_transfer/mix_style_transfer/mst/dataloaders/medley_metadata/FacesOnFilm_WaitingForGa_METADATA.yaml', '/homes/ssv02/style_transfer/mix_style_transfer/mst/dataloaders/medley_metadata/JoelHelander_ExcessiveResistancetoChange_METADATA.yaml', '/homes/ssv02/style_transfer/mix_style_transfer/mst/dataloaders/medley_metadata/MusicDelta_ChineseXinJing_METADATA.yaml', '/homes/ssv02/style_transfer/mix_style_transfer/mst/dataloaders/medley_metadata/TablaBreakbeatScience_MoodyPlucks_METADATA.yaml', '/homes/ssv02/style_transfer/mix_style_transfer/mst/dataloaders/medley_metadata/MatthewEntwistle_Lontano_METADATA.yaml', '/homes/ssv02/style_transfer/mix_style_transfer/mst/dataloaders/medley_metadata/SongYiJeon_TwoMoons_METADATA.yaml', '/homes/ssv02/style_transfer/mix_style_transfer/mst/dataloaders/medley_metadata/MidnightBlue_StarsAreScreaming_METADATA.yaml', '/homes/ssv02/style_transfer/mix_style_transfer/mst/dataloaders/medley_metadata/ChrisJacoby_PigsFoot_METADATA.yaml', '/homes/ssv02/style_transfer/mix_style_transfer/mst/dataloaders/medley_metadata/TheFranckDuo_FranckViolinSonataInAMajorMovement1_METADATA.yaml', '/homes/ssv02/style_transfer/mix_style_transfer/mst/dataloaders/medley_metadata/TheNoHoStringOrchestra_ElgarMovement1_METADATA.yaml', '/homes/ssv02/style_transfer/mix_style_transfer/mst/dataloaders/medley_metadata/JoelHelander_IntheAtticBedroom_METADATA.yaml', '/homes/ssv02/style_transfer/mix_style_transfer/mst/dataloaders/medley_metadata/MusicDelta_ChineseJiangNan_METADATA.yaml', '/homes/ssv02/style_transfer/mix_style_transfer/mst/dataloaders/medley_metadata/ClaraBerryAndWooldog_WaltzForMyVictims_METADATA.yaml', '/homes/ssv02/style_transfer/mix_style_transfer/mst/dataloaders/medley_metadata/MusicDelta_ModalJazz_METADATA.yaml', '/homes/ssv02/style_transfer/mix_style_transfer/mst/dataloaders/medley_metadata/TheNoHoStringOrchestra_ElgarMovement3_METADATA.yaml', '/homes/ssv02/style_transfer/mix_style_transfer/mst/dataloaders/medley_metadata/HopsNVinyl_ChickenFriedSteak_METADATA.yaml', '/homes/ssv02/style_transfer/mix_style_transfer/mst/dataloaders/medley_metadata/CassandraJenkins_PerfectDay_METADATA.yaml', '/homes/ssv02/style_transfer/mix_style_transfer/mst/dataloaders/medley_metadata/ClaraBerryAndWooldog_Stella_METADATA.yaml', '/homes/ssv02/style_transfer/mix_style_transfer/mst/dataloaders/medley_metadata/TleilaxEnsemble_MelancholyFlowers_METADATA.yaml', '/homes/ssv02/style_transfer/mix_style_transfer/mst/dataloaders/medley_metadata/Auctioneer_OurFutureFaces_METADATA.yaml', '/homes/ssv02/style_transfer/mix_style_transfer/mst/dataloaders/medley_metadata/Grants_PunchDrunk_METADATA.yaml', '/homes/ssv02/style_transfer/mix_style_transfer/mst/dataloaders/medley_metadata/Phoenix_ElzicsFarewell_METADATA.yaml', '/homes/ssv02/style_transfer/mix_style_transfer/mst/dataloaders/medley_metadata/FennelCartwright_WinterLake_METADATA.yaml', '/homes/ssv02/style_transfer/mix_style_transfer/mst/dataloaders/medley_metadata/Creepoid_OldTree_METADATA.yaml', '/homes/ssv02/style_transfer/mix_style_transfer/mst/dataloaders/medley_metadata/SasquatchConnection_Struttin_METADATA.yaml', '/homes/ssv02/style_transfer/mix_style_transfer/mst/dataloaders/medley_metadata/Mozart_DiesBildnis_METADATA.yaml', '/homes/ssv02/style_transfer/mix_style_transfer/mst/dataloaders/medley_metadata/Karachacha_Volamos_METADATA.yaml', '/homes/ssv02/style_transfer/mix_style_transfer/mst/dataloaders/medley_metadata/JoelHelander_Definition_METADATA.yaml', '/homes/ssv02/style_transfer/mix_style_transfer/mst/dataloaders/medley_metadata/AClassicEducation_NightOwl_METADATA.yaml', '/homes/ssv02/style_transfer/mix_style_transfer/mst/dataloaders/medley_metadata/FallingSparks_Improvisation2_METADATA.yaml', '/homes/ssv02/style_transfer/mix_style_transfer/mst/dataloaders/medley_metadata/Phoenix_BrokenPledgeChicagoReel_METADATA.yaml', '/homes/ssv02/style_transfer/mix_style_transfer/mst/dataloaders/medley_metadata/MusicDelta_FusionJazz_METADATA.yaml', '/homes/ssv02/style_transfer/mix_style_transfer/mst/dataloaders/medley_metadata/MusicDelta_Country2_METADATA.yaml', '/homes/ssv02/style_transfer/mix_style_transfer/mst/dataloaders/medley_metadata/FennelCartwright_DearTessie_METADATA.yaml', '/homes/ssv02/style_transfer/mix_style_transfer/mst/dataloaders/medley_metadata/MatthewEntwistle_TheArch_METADATA.yaml', '/homes/ssv02/style_transfer/mix_style_transfer/mst/dataloaders/medley_metadata/AimeeNorwich_Child_METADATA.yaml', '/homes/ssv02/style_transfer/mix_style_transfer/mst/dataloaders/medley_metadata/PoliceHearingDepartment_VivaldiMovement1_METADATA.yaml', '/homes/ssv02/style_transfer/mix_style_transfer/mst/dataloaders/medley_metadata/FennelCartwright_FlowerDrumSong_METADATA.yaml', '/homes/ssv02/style_transfer/mix_style_transfer/mst/dataloaders/medley_metadata/MusicDelta_Pachelbel_METADATA.yaml', '/homes/ssv02/style_transfer/mix_style_transfer/mst/dataloaders/medley_metadata/PoliceHearingDepartment_VivaldiMovement2_METADATA.yaml', '/homes/ssv02/style_transfer/mix_style_transfer/mst/dataloaders/medley_metadata/MusicDelta_Disco_METADATA.yaml', '/homes/ssv02/style_transfer/mix_style_transfer/mst/dataloaders/medley_metadata/Verdi_IlTrovatore_METADATA.yaml', '/homes/ssv02/style_transfer/mix_style_transfer/mst/dataloaders/medley_metadata/Sweat_Tact_METADATA.yaml', '/homes/ssv02/style_transfer/mix_style_transfer/mst/dataloaders/medley_metadata/FallingSparks_PakKlongTalad_METADATA.yaml', '/homes/ssv02/style_transfer/mix_style_transfer/mst/dataloaders/medley_metadata/TablaBreakbeatScience_Animoog_METADATA.yaml', '/homes/ssv02/style_transfer/mix_style_transfer/mst/dataloaders/medley_metadata/TheFranckDuo_FranckViolinSonataInAMajorMovement2_METADATA.yaml', '/homes/ssv02/style_transfer/mix_style_transfer/mst/dataloaders/medley_metadata/MusicDelta_SpeedMetal_METADATA.yaml', '/homes/ssv02/style_transfer/mix_style_transfer/mst/dataloaders/medley_metadata/CatMartino_IPromise_METADATA.yaml', '/homes/ssv02/style_transfer/mix_style_transfer/mst/dataloaders/medley_metadata/Debussy_LenfantProdigue_METADATA.yaml', '/homes/ssv02/style_transfer/mix_style_transfer/mst/dataloaders/medley_metadata/Cayetana_MissThing_METADATA.yaml', '/homes/ssv02/style_transfer/mix_style_transfer/mst/dataloaders/medley_metadata/Sweat_Anecdoche_METADATA.yaml', '/homes/ssv02/style_transfer/mix_style_transfer/mst/dataloaders/medley_metadata/Lushlife_ToynbeeSuite_METADATA.yaml', '/homes/ssv02/style_transfer/mix_style_transfer/mst/dataloaders/medley_metadata/TrevorAndTheSoundwaves_AloneAndSad_METADATA.yaml', '/homes/ssv02/style_transfer/mix_style_transfer/mst/dataloaders/medley_metadata/Sweat_AlmostAlways_METADATA.yaml', '/homes/ssv02/style_transfer/mix_style_transfer/mst/dataloaders/medley_metadata/MatthewEntwistle_FairerHopes_METADATA.yaml', '/homes/ssv02/style_transfer/mix_style_transfer/mst/dataloaders/medley_metadata/ClaraBerryAndWooldog_AirTraffic_METADATA.yaml', '/homes/ssv02/style_transfer/mix_style_transfer/mst/dataloaders/medley_metadata/Handel_TornamiAVagheggiar_METADATA.yaml', '/homes/ssv02/style_transfer/mix_style_transfer/mst/dataloaders/medley_metadata/MichaelKropf_AllGoodThings_METADATA.yaml', '/homes/ssv02/style_transfer/mix_style_transfer/mst/dataloaders/medley_metadata/EthanHein_HarmonicaFigure_METADATA.yaml', '/homes/ssv02/style_transfer/mix_style_transfer/mst/dataloaders/medley_metadata/Phoenix_SeanCaughlinsTheScartaglen_METADATA.yaml', '/homes/ssv02/style_transfer/mix_style_transfer/mst/dataloaders/medley_metadata/PurlingHiss_Lolita_METADATA.yaml', '/homes/ssv02/style_transfer/mix_style_transfer/mst/dataloaders/medley_metadata/Snowmine_Curfews_METADATA.yaml', '/homes/ssv02/style_transfer/mix_style_transfer/mst/dataloaders/medley_metadata/MusicDelta_ChineseDrama_METADATA.yaml', '/homes/ssv02/style_transfer/mix_style_transfer/mst/dataloaders/medley_metadata/TheNoHoStringOrchestra_ElgarMovement2_METADATA.yaml', '/homes/ssv02/style_transfer/mix_style_transfer/mst/dataloaders/medley_metadata/TablaBreakbeatScience_PhaseTransition_METADATA.yaml', '/homes/ssv02/style_transfer/mix_style_transfer/mst/dataloaders/medley_metadata/FallingSparks_Improvisation3_METADATA.yaml', '/homes/ssv02/style_transfer/mix_style_transfer/mst/dataloaders/medley_metadata/SasquatchConnection_Illuminati_METADATA.yaml', '/homes/ssv02/style_transfer/mix_style_transfer/mst/dataloaders/medley_metadata/HopsNVinyl_WidowsWalk_METADATA.yaml', '/homes/ssv02/style_transfer/mix_style_transfer/mst/dataloaders/medley_metadata/MusicDelta_InTheHalloftheMountainKing_METADATA.yaml', '/homes/ssv02/style_transfer/mix_style_transfer/mst/dataloaders/medley_metadata/PoliceHearingDepartment_VivaldiMovement3_METADATA.yaml', '/homes/ssv02/style_transfer/mix_style_transfer/mst/dataloaders/medley_metadata/MatthewEntwistle_DontYouEver_METADATA.yaml', '/homes/ssv02/style_transfer/mix_style_transfer/mst/dataloaders/medley_metadata/MusicDelta_Country1_METADATA.yaml', '/homes/ssv02/style_transfer/mix_style_transfer/mst/dataloaders/medley_metadata/TheScarletBrand_LesFleursDuMal_METADATA.yaml', '/homes/ssv02/style_transfer/mix_style_transfer/mst/dataloaders/medley_metadata/Torres_NewSkin_METADATA.yaml', '/homes/ssv02/style_transfer/mix_style_transfer/mst/dataloaders/medley_metadata/LewisAndClarke_TheSilverSea_METADATA.yaml', '/homes/ssv02/style_transfer/mix_style_transfer/mst/dataloaders/medley_metadata/PoliceHearingDepartment_SchumannMovement2_METADATA.yaml', '/homes/ssv02/style_transfer/mix_style_transfer/mst/dataloaders/medley_metadata/MatthewEntwistle_ReturnToVenezia_METADATA.yaml', '/homes/ssv02/style_transfer/mix_style_transfer/mst/dataloaders/medley_metadata/TleilaxEnsemble_Late_METADATA.yaml', '/homes/ssv02/style_transfer/mix_style_transfer/mst/dataloaders/medley_metadata/SlowGhost_MidnightGroove_METADATA.yaml', '/homes/ssv02/style_transfer/mix_style_transfer/mst/dataloaders/medley_metadata/MusicDelta_ChineseYaoZu_METADATA.yaml', '/homes/ssv02/style_transfer/mix_style_transfer/mst/dataloaders/medley_metadata/BrandonWebster_YesSirICanFly_METADATA.yaml', '/homes/ssv02/style_transfer/mix_style_transfer/mst/dataloaders/medley_metadata/AvaLuna_Waterduct_METADATA.yaml', '/homes/ssv02/style_transfer/mix_style_transfer/mst/dataloaders/medley_metadata/SecretMountains_HighHorse_METADATA.yaml', '/homes/ssv02/style_transfer/mix_style_transfer/mst/dataloaders/medley_metadata/Meaxic_TakeAStep_METADATA.yaml', '/homes/ssv02/style_transfer/mix_style_transfer/mst/dataloaders/medley_metadata/TheSoSoGlos_Emergency_METADATA.yaml', '/homes/ssv02/style_transfer/mix_style_transfer/mst/dataloaders/medley_metadata/SweetLights_YouLetMeDown_METADATA.yaml', '/homes/ssv02/style_transfer/mix_style_transfer/mst/dataloaders/medley_metadata/DeclareAString_MendelssohnPianoTrio1Movement1_METADATA.yaml', '/homes/ssv02/style_transfer/mix_style_transfer/mst/dataloaders/medley_metadata/MusicDelta_BebopJazz_METADATA.yaml', '/homes/ssv02/style_transfer/mix_style_transfer/mst/dataloaders/medley_metadata/MusicDelta_GriegTrolltog_METADATA.yaml', '/homes/ssv02/style_transfer/mix_style_transfer/mst/dataloaders/medley_metadata/MusicDelta_Beethoven_METADATA.yaml', '/homes/ssv02/style_transfer/mix_style_transfer/mst/dataloaders/medley_metadata/SasquatchConnection_ThanksALatte_METADATA.yaml', '/homes/ssv02/style_transfer/mix_style_transfer/mst/dataloaders/medley_metadata/TablaBreakbeatScience_CaptainSky_METADATA.yaml', '/homes/ssv02/style_transfer/mix_style_transfer/mst/dataloaders/medley_metadata/LizNelson_Rainfall_METADATA.yaml', '/homes/ssv02/style_transfer/mix_style_transfer/mst/dataloaders/medley_metadata/Sweat_Mesozoic_METADATA.yaml', '/homes/ssv02/style_transfer/mix_style_transfer/mst/dataloaders/medley_metadata/FilthyBird_IdLikeToKnow_METADATA.yaml', '/homes/ssv02/style_transfer/mix_style_transfer/mst/dataloaders/medley_metadata/AmarLal_SpringDay1_METADATA.yaml', '/homes/ssv02/style_transfer/mix_style_transfer/mst/dataloaders/medley_metadata/MusicDelta_80sRock_METADATA.yaml', '/homes/ssv02/style_transfer/mix_style_transfer/mst/dataloaders/medley_metadata/AmadeusRedux_SchubertMovement2_METADATA.yaml', '/homes/ssv02/style_transfer/mix_style_transfer/mst/dataloaders/medley_metadata/AmarLal_Rest_METADATA.yaml', '/homes/ssv02/style_transfer/mix_style_transfer/mst/dataloaders/medley_metadata/Phoenix_ColliersDaughter_METADATA.yaml', '/homes/ssv02/style_transfer/mix_style_transfer/mst/dataloaders/medley_metadata/InvisibleFamiliars_DisturbingWildlife_METADATA.yaml', '/homes/ssv02/style_transfer/mix_style_transfer/mst/dataloaders/medley_metadata/Sweat_Elegy_METADATA.yaml', '/homes/ssv02/style_transfer/mix_style_transfer/mst/dataloaders/medley_metadata/MusicDelta_FreeJazz_METADATA.yaml', '/homes/ssv02/style_transfer/mix_style_transfer/mst/dataloaders/medley_metadata/MusicDelta_Hendrix_METADATA.yaml', '/homes/ssv02/style_transfer/mix_style_transfer/mst/dataloaders/medley_metadata/MusicDelta_LatinJazz_METADATA.yaml', '/homes/ssv02/style_transfer/mix_style_transfer/mst/dataloaders/medley_metadata/CroqueMadame_Pilot_METADATA.yaml', '/homes/ssv02/style_transfer/mix_style_transfer/mst/dataloaders/medley_metadata/CroqueMadame_Oil_METADATA.yaml', '/homes/ssv02/style_transfer/mix_style_transfer/mst/dataloaders/medley_metadata/SasquatchConnection_BoomBoxing_METADATA.yaml', '/homes/ssv02/style_transfer/mix_style_transfer/mst/dataloaders/medley_metadata/StevenClark_Bounty_METADATA.yaml', '/homes/ssv02/style_transfer/mix_style_transfer/mst/dataloaders/medley_metadata/AmadeusRedux_SchubertMovement3_METADATA.yaml', '/homes/ssv02/style_transfer/mix_style_transfer/mst/dataloaders/medley_metadata/Meaxic_YouListen_METADATA.yaml', '/homes/ssv02/style_transfer/mix_style_transfer/mst/dataloaders/medley_metadata/PortStWillow_StayEven_METADATA.yaml', '/homes/ssv02/style_transfer/mix_style_transfer/mst/dataloaders/medley_metadata/Plasma_GoodShout_METADATA.yaml', '/homes/ssv02/style_transfer/mix_style_transfer/mst/dataloaders/medley_metadata/Sweat_Sn1572_METADATA.yaml', '/homes/ssv02/style_transfer/mix_style_transfer/mst/dataloaders/medley_metadata/TemperedElan_DorothyJeanne_METADATA.yaml', '/homes/ssv02/style_transfer/mix_style_transfer/mst/dataloaders/medley_metadata/Mozart_BesterJungling_METADATA.yaml', '/homes/ssv02/style_transfer/mix_style_transfer/mst/dataloaders/medley_metadata/MusicDelta_ChineseHenan_METADATA.yaml', '/homes/ssv02/style_transfer/mix_style_transfer/mst/dataloaders/medley_metadata/TablaBreakbeatScience_Vger_METADATA.yaml', '/homes/ssv02/style_transfer/mix_style_transfer/mst/dataloaders/medley_metadata/KarimDouaidy_Yatora_METADATA.yaml', '/homes/ssv02/style_transfer/mix_style_transfer/mst/dataloaders/medley_metadata/LittleTybee_TheAlchemist_METADATA.yaml', '/homes/ssv02/style_transfer/mix_style_transfer/mst/dataloaders/medley_metadata/MusicDelta_Punk_METADATA.yaml', '/homes/ssv02/style_transfer/mix_style_transfer/mst/dataloaders/medley_metadata/CelestialShore_DieForUs_METADATA.yaml', '/homes/ssv02/style_transfer/mix_style_transfer/mst/dataloaders/medley_metadata/SlowGhost_Peanut_METADATA.yaml', '/homes/ssv02/style_transfer/mix_style_transfer/mst/dataloaders/medley_metadata/NightPanther_Fire_METADATA.yaml', '/homes/ssv02/style_transfer/mix_style_transfer/mst/dataloaders/medley_metadata/PoliceHearingDepartment_SchumannMovement1_METADATA.yaml', '/homes/ssv02/style_transfer/mix_style_transfer/mst/dataloaders/medley_metadata/QuantumChromos_Circuits_METADATA.yaml', '/homes/ssv02/style_transfer/mix_style_transfer/mst/dataloaders/medley_metadata/HopAlong_SisterCities_METADATA.yaml', '/homes/ssv02/style_transfer/mix_style_transfer/mst/dataloaders/medley_metadata/MusicDelta_ChineseChaoZhou_METADATA.yaml', '/homes/ssv02/style_transfer/mix_style_transfer/mst/dataloaders/medley_metadata/FamilyBand_Again_METADATA.yaml', '/homes/ssv02/style_transfer/mix_style_transfer/mst/dataloaders/medley_metadata/TheTonTons_Lush_METADATA.yaml', '/homes/ssv02/style_transfer/mix_style_transfer/mst/dataloaders/medley_metadata/Katzn_CharlieKnox_METADATA.yaml', '/homes/ssv02/style_transfer/mix_style_transfer/mst/dataloaders/medley_metadata/ChrisJacoby_BoothShotLincoln_METADATA.yaml', '/homes/ssv02/style_transfer/mix_style_transfer/mst/dataloaders/medley_metadata/Allegria_MendelssohnMovement1_METADATA.yaml', '/homes/ssv02/style_transfer/mix_style_transfer/mst/dataloaders/medley_metadata/TemperedElan_WiseOne_METADATA.yaml', '/homes/ssv02/style_transfer/mix_style_transfer/mst/dataloaders/medley_metadata/HeladoNegro_MitadDelMundo_METADATA.yaml', '/homes/ssv02/style_transfer/mix_style_transfer/mst/dataloaders/medley_metadata/Schumann_Mignon_METADATA.yaml', '/homes/ssv02/style_transfer/mix_style_transfer/mst/dataloaders/medley_metadata/BrandonWebster_DontHearAThing_METADATA.yaml', '/homes/ssv02/style_transfer/mix_style_transfer/mst/dataloaders/medley_metadata/AmadeusRedux_MozartAllegro_METADATA.yaml', '/homes/ssv02/style_transfer/mix_style_transfer/mst/dataloaders/medley_metadata/MidnightBlue_HuntingSeason_METADATA.yaml', '/homes/ssv02/style_transfer/mix_style_transfer/mst/dataloaders/medley_metadata/MatthewEntwistle_AnEveningWithOliver_METADATA.yaml', '/homes/ssv02/style_transfer/mix_style_transfer/mst/dataloaders/medley_metadata/ClaraBerryAndWooldog_TheBadGuys_METADATA.yaml', '/homes/ssv02/style_transfer/mix_style_transfer/mst/dataloaders/medley_metadata/MusicDelta_Grunge_METADATA.yaml', '/homes/ssv02/style_transfer/mix_style_transfer/mst/dataloaders/medley_metadata/KarimDouaidy_Hopscotch_METADATA.yaml', '/homes/ssv02/style_transfer/mix_style_transfer/mst/dataloaders/medley_metadata/MusicDelta_Reggae_METADATA.yaml', '/homes/ssv02/style_transfer/mix_style_transfer/mst/dataloaders/medley_metadata/AlexanderRoss_VelvetCurtain_METADATA.yaml', '/homes/ssv02/style_transfer/mix_style_transfer/mst/dataloaders/medley_metadata/TheDistricts_Vermont_METADATA.yaml', '/homes/ssv02/style_transfer/mix_style_transfer/mst/dataloaders/medley_metadata/PeterMatthewBauer_YouAlwaysLookForSomeoneLost_METADATA.yaml', '/homes/ssv02/style_transfer/mix_style_transfer/mst/dataloaders/medley_metadata/MatthewEntwistle_TheFlaxenField_METADATA.yaml', '/homes/ssv02/style_transfer/mix_style_transfer/mst/dataloaders/medley_metadata/EthanHein_1930sSynthAndUprightBass_METADATA.yaml', '/homes/ssv02/style_transfer/mix_style_transfer/mst/dataloaders/medley_metadata/DeclareAString_MendelssohnPianoTrio1Movement2_METADATA.yaml', '/homes/ssv02/style_transfer/mix_style_transfer/mst/dataloaders/medley_metadata/AimeeNorwich_Flying_METADATA.yaml', '/homes/ssv02/style_transfer/mix_style_transfer/mst/dataloaders/medley_metadata/MusicDelta_FunkJazz_METADATA.yaml', '/homes/ssv02/style_transfer/mix_style_transfer/mst/dataloaders/medley_metadata/Wolf_DieBekherte_METADATA.yaml', '/homes/ssv02/style_transfer/mix_style_transfer/mst/dataloaders/medley_metadata/TablaBreakbeatScience_MiloVsMongo_METADATA.yaml', '/homes/ssv02/style_transfer/mix_style_transfer/mst/dataloaders/medley_metadata/StrandOfOaks_Spacestation_METADATA.yaml', '/homes/ssv02/style_transfer/mix_style_transfer/mst/dataloaders/medley_metadata/BarefootSisters_RedJetta_METADATA.yaml', '/homes/ssv02/style_transfer/mix_style_transfer/mst/dataloaders/medley_metadata/AlexanderRoss_GoodbyeBolero_METADATA.yaml', '/homes/ssv02/style_transfer/mix_style_transfer/mst/dataloaders/medley_metadata/Schubert_Erstarrung_METADATA.yaml', '/homes/ssv02/style_transfer/mix_style_transfer/mst/dataloaders/medley_metadata/TheKitchenettes_Alive_METADATA.yaml', '/homes/ssv02/style_transfer/mix_style_transfer/mst/dataloaders/medley_metadata/PoliceHearingDepartment_Brahms_METADATA.yaml', '/homes/ssv02/style_transfer/mix_style_transfer/mst/dataloaders/medley_metadata/TablaBreakbeatScience_RockSteady_METADATA.yaml', '/homes/ssv02/style_transfer/mix_style_transfer/mst/dataloaders/medley_metadata/MusicDelta_Rockabilly_METADATA.yaml', '/homes/ssv02/style_transfer/mix_style_transfer/mst/dataloaders/medley_metadata/MatthewEntwistle_ImpressionsOfSaturn_METADATA.yaml', '/homes/ssv02/style_transfer/mix_style_transfer/mst/dataloaders/medley_metadata/LizNelson_ImComingHome_METADATA.yaml', '/homes/ssv02/style_transfer/mix_style_transfer/mst/dataloaders/medley_metadata/FallingSparks_Improvisation1_METADATA.yaml', '/homes/ssv02/style_transfer/mix_style_transfer/mst/dataloaders/medley_metadata/MutualBenefit_NotForNothing_METADATA.yaml', '/homes/ssv02/style_transfer/mix_style_transfer/mst/dataloaders/medley_metadata/Phoenix_ScotchMorris_METADATA.yaml', '/homes/ssv02/style_transfer/mix_style_transfer/mst/dataloaders/medley_metadata/MusicDelta_Beatles_METADATA.yaml', '/homes/ssv02/style_transfer/mix_style_transfer/mst/dataloaders/medley_metadata/MusicDelta_CoolJazz_METADATA.yaml', '/homes/ssv02/style_transfer/mix_style_transfer/mst/dataloaders/medley_metadata/MusicDelta_Zeppelin_METADATA.yaml', '/homes/ssv02/style_transfer/mix_style_transfer/mst/dataloaders/medley_metadata/HezekiahJones_BorrowedHeart_METADATA.yaml', '/homes/ssv02/style_transfer/mix_style_transfer/mst/dataloaders/medley_metadata/PatternIsMovement_SaveMe_METADATA.yaml', '/homes/ssv02/style_transfer/mix_style_transfer/mst/dataloaders/medley_metadata/MusicDelta_Vivaldi_METADATA.yaml', '/homes/ssv02/style_transfer/mix_style_transfer/mst/dataloaders/medley_metadata/FruitCathedral_KeepMeRunnin_METADATA.yaml', '/homes/ssv02/style_transfer/mix_style_transfer/mst/dataloaders/medley_metadata/SasquatchConnection_HolyClamsBatman_METADATA.yaml', '/homes/ssv02/style_transfer/mix_style_transfer/mst/dataloaders/medley_metadata/HopsNVinyl_ReignCheck_METADATA.yaml', '/homes/ssv02/style_transfer/mix_style_transfer/mst/dataloaders/medley_metadata/MusicDelta_Shadows_METADATA.yaml', '/homes/ssv02/style_transfer/mix_style_transfer/mst/dataloaders/medley_metadata/LizNelson_Coldwar_METADATA.yaml', '/homes/ssv02/style_transfer/mix_style_transfer/mst/dataloaders/medley_metadata/DahkaBand_SoldierMan_METADATA.yaml', '/homes/ssv02/style_transfer/mix_style_transfer/mst/dataloaders/medley_metadata/MusicDelta_Rock_METADATA.yaml', '/homes/ssv02/style_transfer/mix_style_transfer/mst/dataloaders/medley_metadata/BigTroubles_Phantom_METADATA.yaml', '/homes/ssv02/style_transfer/mix_style_transfer/mst/dataloaders/medley_metadata/EthanHein_GirlOnABridge_METADATA.yaml', '/homes/ssv02/style_transfer/mix_style_transfer/mst/dataloaders/medley_metadata/TablaBreakbeatScience_Scorpio_METADATA.yaml', '/homes/ssv02/style_transfer/mix_style_transfer/mst/dataloaders/medley_metadata/EthanHein_BluesForNofi_METADATA.yaml', '/homes/ssv02/style_transfer/mix_style_transfer/mst/dataloaders/medley_metadata/DreamersOfTheGhetto_HeavyLove_METADATA.yaml', '/homes/ssv02/style_transfer/mix_style_transfer/mst/dataloaders/medley_metadata/MusicDelta_SwingJazz_METADATA.yaml', '/homes/ssv02/style_transfer/mix_style_transfer/mst/dataloaders/medley_metadata/Phoenix_LarkOnTheStrandDrummondCastle_METADATA.yaml', '/homes/ssv02/style_transfer/mix_style_transfer/mst/dataloaders/medley_metadata/RodrigoBonelli_BalladForLaura_METADATA.yaml', '/homes/ssv02/style_transfer/mix_style_transfer/mst/dataloaders/medley_metadata/HopsNVinyl_HoneyBrown_METADATA.yaml', '/homes/ssv02/style_transfer/mix_style_transfer/mst/dataloaders/medley_metadata/DeadMilkmen_PrisonersCinema_METADATA.yaml']\n",
      "196\n"
     ]
    }
   ],
   "source": [
    "import os\n",
    "import glob\n",
    "#import pyyaml\n",
    "meta_dir = \"/homes/ssv02/style_transfer/mix_style_transfer/mst/dataloaders/medley_metadata\"\n",
    "if not os.path.exists(meta_dir):\n",
    "    print(\"meta_dir does not exist\")\n",
    "print(meta_dir)\n",
    "meta_file = glob.glob(os.path.join(meta_dir, \"*\"))\n",
    "print(meta_file)\n",
    "\n",
    "print(len(meta_file))"
   ]
  },
  {
   "cell_type": "code",
   "execution_count": 28,
   "metadata": {},
   "outputs": [
    {
     "data": {
      "text/plain": [
       "'TheBeatles_YouWontSeeMe'"
      ]
     },
     "execution_count": 28,
     "metadata": {},
     "output_type": "execute_result"
    }
   ],
   "source": [
    "os.path.basename(meta_file[0]).replace(\"_METADATA.yaml\",\"\")"
   ]
  },
  {
   "cell_type": "code",
   "execution_count": 3,
   "metadata": {},
   "outputs": [
    {
     "name": "stdout",
     "output_type": "stream",
     "text": [
      "{'album': 'Music Information Retrieval', 'artist': 'Tabla Breakbeat Science', 'composer': ['Ethan Hein'], 'excerpt': 'no', 'genre': 'Electronic/Fusion', 'has_bleed': 'no', 'instrumental': 'yes', 'mix_filename': 'TablaBreakbeatScience_WhoIsIt_MIX.wav', 'origin': 'Dolan Studio', 'producer': ['Ethan Hein'], 'raw_dir': 'TablaBreakbeatScience_WhoIsIt_RAW', 'stem_dir': 'TablaBreakbeatScience_WhoIsIt_STEMS', 'stems': {'S01': {'component': '', 'filename': 'TablaBreakbeatScience_WhoIsIt_STEM_01.wav', 'instrument': 'drum machine', 'raw': {'R01': {'filename': 'TablaBreakbeatScience_WhoIsIt_RAW_01_01.wav', 'instrument': 'drum machine'}, 'R02': {'filename': 'TablaBreakbeatScience_WhoIsIt_RAW_01_02.wav', 'instrument': 'drum machine'}}}, 'S02': {'component': '', 'filename': 'TablaBreakbeatScience_WhoIsIt_STEM_02.wav', 'instrument': 'synthesizer', 'raw': {'R01': {'filename': 'TablaBreakbeatScience_WhoIsIt_RAW_02_01.wav', 'instrument': 'synthesizer'}, 'R02': {'filename': 'TablaBreakbeatScience_WhoIsIt_RAW_02_02.wav', 'instrument': 'synthesizer'}}}, 'S03': {'component': '', 'filename': 'TablaBreakbeatScience_WhoIsIt_STEM_03.wav', 'instrument': 'electric bass', 'raw': {'R01': {'filename': 'TablaBreakbeatScience_WhoIsIt_RAW_03_01.wav', 'instrument': 'clean electric guitar'}}}, 'S04': {'component': '', 'filename': 'TablaBreakbeatScience_WhoIsIt_STEM_04.wav', 'instrument': 'accordion', 'raw': {'R01': {'filename': 'TablaBreakbeatScience_WhoIsIt_RAW_04_01.wav', 'instrument': 'accordion'}, 'R02': {'filename': 'TablaBreakbeatScience_WhoIsIt_RAW_04_02.wav', 'instrument': 'accordion'}}}, 'S05': {'component': '', 'filename': 'TablaBreakbeatScience_WhoIsIt_STEM_05.wav', 'instrument': 'mandolin', 'raw': {'R01': {'filename': 'TablaBreakbeatScience_WhoIsIt_RAW_05_01.wav', 'instrument': 'mandolin'}}}, 'S06': {'component': '', 'filename': 'TablaBreakbeatScience_WhoIsIt_STEM_06.wav', 'instrument': 'tabla', 'raw': {'R01': {'filename': 'TablaBreakbeatScience_WhoIsIt_RAW_06_01.wav', 'instrument': 'tabla'}, 'R02': {'filename': 'TablaBreakbeatScience_WhoIsIt_RAW_06_02.wav', 'instrument': 'tabla'}}}}, 'title': 'WhoIsIt', 'version': 1.2, 'website': ['www.ethanhein.com']}\n"
     ]
    }
   ],
   "source": [
    "from yaml import load, dump\n",
    "from yaml import Loader, Dumper\n",
    "\n",
    "with open(meta_file[0], 'r') as stream:\n",
    "    file = load(stream, Loader=Loader)\n",
    "    print(file)\n",
    "#print(file.values())\n",
    "# DICT = {}\n",
    "\n",
    "# DICT = file['stems']\n",
    "# print(DICT)\n",
    "#     #print(value)\n",
    "# for key, value in DICT.items():\n",
    "#     print(key, \":\", value) \n",
    "    \n",
    "\n",
    "\n",
    "\n",
    "#print(file['filename'])\n"
   ]
  },
  {
   "cell_type": "code",
   "execution_count": 78,
   "metadata": {},
   "outputs": [
    {
     "name": "stdout",
     "output_type": "stream",
     "text": [
      "122\n",
      "74\n",
      "196\n",
      "330\n"
     ]
    }
   ],
   "source": [
    "medley_dir = [\"/import/c4dm-datasets/MedleyDB_V1/V1\", \"/import/c4dm-datasets/MedleyDB_V2/V2\"]\n",
    "mix_dirs = []\n",
    "for path in medley_dir:\n",
    "    mix_dir = glob.glob(os.path.join(path, \"*\"))\n",
    "    print(len(mix_dir))\n",
    "    mix_dirs.extend(mix_dir)\n",
    "print(len(mix_dirs))\n",
    "\n",
    "meta_dir = \"/homes/ssv02/style_transfer/mix_style_transfer/mst/dataloaders/medley_metadata\"\n",
    "meta_file = glob.glob(os.path.join(meta_dir, \"*\"))\n",
    "print(len(meta_file))\n",
    "  "
   ]
  },
  {
   "cell_type": "code",
   "execution_count": 79,
   "metadata": {},
   "outputs": [
    {
     "name": "stdout",
     "output_type": "stream",
     "text": [
      "330\n",
      "196\n"
     ]
    }
   ],
   "source": [
    "mix_id = [os.path.basename(mix_dir) for mix_dir in mix_dirs]\n",
    "meta_id = [os.path.basename(meta).replace(\"_METADATA.yaml\",\"\") for meta in meta_file]\n",
    "metadata = {meta_id[i]:meta_file[i] for i in range(len(meta_file))}\n",
    "print(len(metadata))\n",
    "print(len(mix_id))\n",
    "       \n",
    "        # for mix in mix_id:\n",
    "        #     if mix in meta_id:\n",
    "        #         filtered_meta[mix_id] = self.metadata[meta_id]"
   ]
  },
  {
   "cell_type": "code",
   "execution_count": null,
   "metadata": {},
   "outputs": [],
   "source": [
    "for meta in meta_id:\n",
    "    if meta not in mix_id:\n",
    "        os.remove(metadata[meta])"
   ]
  }
 ],
 "metadata": {
  "kernelspec": {
   "display_name": "afx",
   "language": "python",
   "name": "python3"
  },
  "language_info": {
   "codemirror_mode": {
    "name": "ipython",
    "version": 3
   },
   "file_extension": ".py",
   "mimetype": "text/x-python",
   "name": "python",
   "nbconvert_exporter": "python",
   "pygments_lexer": "ipython3",
   "version": "3.10.4"
  },
  "orig_nbformat": 4,
  "vscode": {
   "interpreter": {
    "hash": "3acc93858e986b0371a3ec5246326c63c1df7b54c733d77f5eb23f4cfe89eec3"
   }
  }
 },
 "nbformat": 4,
 "nbformat_minor": 2
}
